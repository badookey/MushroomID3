{
 "cells": [
  {
   "cell_type": "markdown",
   "metadata": {},
   "source": [
    "# Assignment 2: Practical data mining project - Exploring Mushrooms.txt and Constructing ID3 #\n",
    "by Luke Crawford (12617306) and Jonathan Rau (13112750)"
   ]
  },
  {
   "cell_type": "markdown",
   "metadata": {},
   "source": [
    "## Importing and Exploring the data ##"
   ]
  },
  {
   "cell_type": "code",
   "execution_count": 2,
   "metadata": {},
   "outputs": [],
   "source": [
    "import pandas as pd\n",
    "import torch\n",
    "import numpy as np\n",
    "from skimage import io, transform\n",
    "from math import log"
   ]
  },
  {
   "cell_type": "code",
   "execution_count": 3,
   "metadata": {},
   "outputs": [],
   "source": [
    "#Load the data from Mushrooms.txt\n",
    "shrooms = pd.read_csv('Data/Mushrooms.txt', header=None)\n",
    "#Input column names from Mushroom Attributes.txt\n",
    "columns=['class','cap-shape','cap-surface','cap-color','bruises','odor','gill-attachment','gill-spacing','gill-size','gill-color','stalk-shape','stalk-root','stalk-surface-above-ring','stalk-surface-below-ring','stalk-color-above-ring','stalk-color-below-ring','veil-type','veil-color','ring-number','ring-type','spore-print-color','population','habitat']\n",
    "\n",
    "#Rename columns according to their real attributes\n",
    "shrooms.set_axis(columns, axis='columns', inplace=True)"
   ]
  },
  {
   "cell_type": "code",
   "execution_count": 4,
   "metadata": {},
   "outputs": [
    {
     "data": {
      "text/html": [
       "<div>\n",
       "<style scoped>\n",
       "    .dataframe tbody tr th:only-of-type {\n",
       "        vertical-align: middle;\n",
       "    }\n",
       "\n",
       "    .dataframe tbody tr th {\n",
       "        vertical-align: top;\n",
       "    }\n",
       "\n",
       "    .dataframe thead th {\n",
       "        text-align: right;\n",
       "    }\n",
       "</style>\n",
       "<table border=\"1\" class=\"dataframe\">\n",
       "  <thead>\n",
       "    <tr style=\"text-align: right;\">\n",
       "      <th></th>\n",
       "      <th>class</th>\n",
       "      <th>cap-shape</th>\n",
       "      <th>cap-surface</th>\n",
       "      <th>cap-color</th>\n",
       "      <th>bruises</th>\n",
       "      <th>odor</th>\n",
       "      <th>gill-attachment</th>\n",
       "      <th>gill-spacing</th>\n",
       "      <th>gill-size</th>\n",
       "      <th>gill-color</th>\n",
       "      <th>...</th>\n",
       "      <th>stalk-surface-below-ring</th>\n",
       "      <th>stalk-color-above-ring</th>\n",
       "      <th>stalk-color-below-ring</th>\n",
       "      <th>veil-type</th>\n",
       "      <th>veil-color</th>\n",
       "      <th>ring-number</th>\n",
       "      <th>ring-type</th>\n",
       "      <th>spore-print-color</th>\n",
       "      <th>population</th>\n",
       "      <th>habitat</th>\n",
       "    </tr>\n",
       "  </thead>\n",
       "  <tbody>\n",
       "    <tr>\n",
       "      <th>count</th>\n",
       "      <td>8124</td>\n",
       "      <td>8124</td>\n",
       "      <td>8124</td>\n",
       "      <td>8124</td>\n",
       "      <td>8124</td>\n",
       "      <td>8124</td>\n",
       "      <td>8124</td>\n",
       "      <td>8124</td>\n",
       "      <td>8124</td>\n",
       "      <td>8124</td>\n",
       "      <td>...</td>\n",
       "      <td>8124</td>\n",
       "      <td>8124</td>\n",
       "      <td>8124</td>\n",
       "      <td>8124</td>\n",
       "      <td>8124</td>\n",
       "      <td>8124</td>\n",
       "      <td>8124</td>\n",
       "      <td>8124</td>\n",
       "      <td>8124</td>\n",
       "      <td>8124</td>\n",
       "    </tr>\n",
       "    <tr>\n",
       "      <th>unique</th>\n",
       "      <td>2</td>\n",
       "      <td>6</td>\n",
       "      <td>4</td>\n",
       "      <td>10</td>\n",
       "      <td>2</td>\n",
       "      <td>9</td>\n",
       "      <td>2</td>\n",
       "      <td>2</td>\n",
       "      <td>2</td>\n",
       "      <td>12</td>\n",
       "      <td>...</td>\n",
       "      <td>4</td>\n",
       "      <td>9</td>\n",
       "      <td>9</td>\n",
       "      <td>1</td>\n",
       "      <td>4</td>\n",
       "      <td>3</td>\n",
       "      <td>5</td>\n",
       "      <td>9</td>\n",
       "      <td>6</td>\n",
       "      <td>7</td>\n",
       "    </tr>\n",
       "    <tr>\n",
       "      <th>top</th>\n",
       "      <td>e</td>\n",
       "      <td>x</td>\n",
       "      <td>y</td>\n",
       "      <td>n</td>\n",
       "      <td>f</td>\n",
       "      <td>n</td>\n",
       "      <td>f</td>\n",
       "      <td>c</td>\n",
       "      <td>b</td>\n",
       "      <td>b</td>\n",
       "      <td>...</td>\n",
       "      <td>s</td>\n",
       "      <td>w</td>\n",
       "      <td>w</td>\n",
       "      <td>p</td>\n",
       "      <td>w</td>\n",
       "      <td>o</td>\n",
       "      <td>p</td>\n",
       "      <td>w</td>\n",
       "      <td>v</td>\n",
       "      <td>d</td>\n",
       "    </tr>\n",
       "    <tr>\n",
       "      <th>freq</th>\n",
       "      <td>4208</td>\n",
       "      <td>3656</td>\n",
       "      <td>3244</td>\n",
       "      <td>2284</td>\n",
       "      <td>4748</td>\n",
       "      <td>3528</td>\n",
       "      <td>7914</td>\n",
       "      <td>6812</td>\n",
       "      <td>5612</td>\n",
       "      <td>1728</td>\n",
       "      <td>...</td>\n",
       "      <td>4936</td>\n",
       "      <td>4464</td>\n",
       "      <td>4384</td>\n",
       "      <td>8124</td>\n",
       "      <td>7924</td>\n",
       "      <td>7488</td>\n",
       "      <td>3968</td>\n",
       "      <td>2388</td>\n",
       "      <td>4040</td>\n",
       "      <td>3148</td>\n",
       "    </tr>\n",
       "  </tbody>\n",
       "</table>\n",
       "<p>4 rows × 23 columns</p>\n",
       "</div>"
      ],
      "text/plain": [
       "       class cap-shape cap-surface cap-color bruises  odor gill-attachment  \\\n",
       "count   8124      8124        8124      8124    8124  8124            8124   \n",
       "unique     2         6           4        10       2     9               2   \n",
       "top        e         x           y         n       f     n               f   \n",
       "freq    4208      3656        3244      2284    4748  3528            7914   \n",
       "\n",
       "       gill-spacing gill-size gill-color   ...   stalk-surface-below-ring  \\\n",
       "count          8124      8124       8124   ...                       8124   \n",
       "unique            2         2         12   ...                          4   \n",
       "top               c         b          b   ...                          s   \n",
       "freq           6812      5612       1728   ...                       4936   \n",
       "\n",
       "       stalk-color-above-ring stalk-color-below-ring veil-type veil-color  \\\n",
       "count                    8124                   8124      8124       8124   \n",
       "unique                      9                      9         1          4   \n",
       "top                         w                      w         p          w   \n",
       "freq                     4464                   4384      8124       7924   \n",
       "\n",
       "       ring-number ring-type spore-print-color population habitat  \n",
       "count         8124      8124              8124       8124    8124  \n",
       "unique           3         5                 9          6       7  \n",
       "top              o         p                 w          v       d  \n",
       "freq          7488      3968              2388       4040    3148  \n",
       "\n",
       "[4 rows x 23 columns]"
      ]
     },
     "execution_count": 4,
     "metadata": {},
     "output_type": "execute_result"
    }
   ],
   "source": [
    "shrooms.describe()"
   ]
  },
  {
   "cell_type": "code",
   "execution_count": 5,
   "metadata": {},
   "outputs": [
    {
     "name": "stdout",
     "output_type": "stream",
     "text": [
      "Edible Mushrooms: 4208\n",
      "Poisonous Mushrooms: 3916\n"
     ]
    }
   ],
   "source": [
    "print('Edible Mushrooms: {}'.format(shrooms['class'].value_counts()[0]))\n",
    "print('Poisonous Mushrooms: {}'.format(shrooms['class'].value_counts()[1]))"
   ]
  },
  {
   "cell_type": "markdown",
   "metadata": {},
   "source": [
    "# Preprocessing"
   ]
  },
  {
   "cell_type": "code",
   "execution_count": 6,
   "metadata": {},
   "outputs": [
    {
     "data": {
      "text/html": [
       "<div>\n",
       "<style scoped>\n",
       "    .dataframe tbody tr th:only-of-type {\n",
       "        vertical-align: middle;\n",
       "    }\n",
       "\n",
       "    .dataframe tbody tr th {\n",
       "        vertical-align: top;\n",
       "    }\n",
       "\n",
       "    .dataframe thead th {\n",
       "        text-align: right;\n",
       "    }\n",
       "</style>\n",
       "<table border=\"1\" class=\"dataframe\">\n",
       "  <thead>\n",
       "    <tr style=\"text-align: right;\">\n",
       "      <th></th>\n",
       "      <th>class</th>\n",
       "      <th>cap-shape</th>\n",
       "      <th>cap-surface</th>\n",
       "      <th>cap-color</th>\n",
       "      <th>bruises</th>\n",
       "      <th>odor</th>\n",
       "      <th>gill-attachment</th>\n",
       "      <th>gill-spacing</th>\n",
       "      <th>gill-size</th>\n",
       "      <th>gill-color</th>\n",
       "      <th>...</th>\n",
       "      <th>stalk-surface-above-ring</th>\n",
       "      <th>stalk-surface-below-ring</th>\n",
       "      <th>stalk-color-above-ring</th>\n",
       "      <th>stalk-color-below-ring</th>\n",
       "      <th>veil-color</th>\n",
       "      <th>ring-number</th>\n",
       "      <th>ring-type</th>\n",
       "      <th>spore-print-color</th>\n",
       "      <th>population</th>\n",
       "      <th>habitat</th>\n",
       "    </tr>\n",
       "  </thead>\n",
       "  <tbody>\n",
       "    <tr>\n",
       "      <th>count</th>\n",
       "      <td>8124</td>\n",
       "      <td>8124</td>\n",
       "      <td>8124</td>\n",
       "      <td>8124</td>\n",
       "      <td>8124</td>\n",
       "      <td>8124</td>\n",
       "      <td>8124</td>\n",
       "      <td>8124</td>\n",
       "      <td>8124</td>\n",
       "      <td>8124</td>\n",
       "      <td>...</td>\n",
       "      <td>8124</td>\n",
       "      <td>8124</td>\n",
       "      <td>8124</td>\n",
       "      <td>8124</td>\n",
       "      <td>8124</td>\n",
       "      <td>8124</td>\n",
       "      <td>8124</td>\n",
       "      <td>8124</td>\n",
       "      <td>8124</td>\n",
       "      <td>8124</td>\n",
       "    </tr>\n",
       "    <tr>\n",
       "      <th>unique</th>\n",
       "      <td>2</td>\n",
       "      <td>6</td>\n",
       "      <td>4</td>\n",
       "      <td>10</td>\n",
       "      <td>2</td>\n",
       "      <td>9</td>\n",
       "      <td>2</td>\n",
       "      <td>2</td>\n",
       "      <td>2</td>\n",
       "      <td>12</td>\n",
       "      <td>...</td>\n",
       "      <td>4</td>\n",
       "      <td>4</td>\n",
       "      <td>9</td>\n",
       "      <td>9</td>\n",
       "      <td>4</td>\n",
       "      <td>3</td>\n",
       "      <td>5</td>\n",
       "      <td>9</td>\n",
       "      <td>6</td>\n",
       "      <td>7</td>\n",
       "    </tr>\n",
       "    <tr>\n",
       "      <th>top</th>\n",
       "      <td>e</td>\n",
       "      <td>x</td>\n",
       "      <td>y</td>\n",
       "      <td>n</td>\n",
       "      <td>f</td>\n",
       "      <td>n</td>\n",
       "      <td>f</td>\n",
       "      <td>c</td>\n",
       "      <td>b</td>\n",
       "      <td>b</td>\n",
       "      <td>...</td>\n",
       "      <td>s</td>\n",
       "      <td>s</td>\n",
       "      <td>w</td>\n",
       "      <td>w</td>\n",
       "      <td>w</td>\n",
       "      <td>o</td>\n",
       "      <td>p</td>\n",
       "      <td>w</td>\n",
       "      <td>v</td>\n",
       "      <td>d</td>\n",
       "    </tr>\n",
       "    <tr>\n",
       "      <th>freq</th>\n",
       "      <td>4208</td>\n",
       "      <td>3656</td>\n",
       "      <td>3244</td>\n",
       "      <td>2284</td>\n",
       "      <td>4748</td>\n",
       "      <td>3528</td>\n",
       "      <td>7914</td>\n",
       "      <td>6812</td>\n",
       "      <td>5612</td>\n",
       "      <td>1728</td>\n",
       "      <td>...</td>\n",
       "      <td>5176</td>\n",
       "      <td>4936</td>\n",
       "      <td>4464</td>\n",
       "      <td>4384</td>\n",
       "      <td>7924</td>\n",
       "      <td>7488</td>\n",
       "      <td>3968</td>\n",
       "      <td>2388</td>\n",
       "      <td>4040</td>\n",
       "      <td>3148</td>\n",
       "    </tr>\n",
       "  </tbody>\n",
       "</table>\n",
       "<p>4 rows × 22 columns</p>\n",
       "</div>"
      ],
      "text/plain": [
       "       class cap-shape cap-surface cap-color bruises  odor gill-attachment  \\\n",
       "count   8124      8124        8124      8124    8124  8124            8124   \n",
       "unique     2         6           4        10       2     9               2   \n",
       "top        e         x           y         n       f     n               f   \n",
       "freq    4208      3656        3244      2284    4748  3528            7914   \n",
       "\n",
       "       gill-spacing gill-size gill-color   ...   stalk-surface-above-ring  \\\n",
       "count          8124      8124       8124   ...                       8124   \n",
       "unique            2         2         12   ...                          4   \n",
       "top               c         b          b   ...                          s   \n",
       "freq           6812      5612       1728   ...                       5176   \n",
       "\n",
       "       stalk-surface-below-ring stalk-color-above-ring stalk-color-below-ring  \\\n",
       "count                      8124                   8124                   8124   \n",
       "unique                        4                      9                      9   \n",
       "top                           s                      w                      w   \n",
       "freq                       4936                   4464                   4384   \n",
       "\n",
       "       veil-color ring-number ring-type spore-print-color population habitat  \n",
       "count        8124        8124      8124              8124       8124    8124  \n",
       "unique          4           3         5                 9          6       7  \n",
       "top             w           o         p                 w          v       d  \n",
       "freq         7924        7488      3968              2388       4040    3148  \n",
       "\n",
       "[4 rows x 22 columns]"
      ]
     },
     "execution_count": 6,
     "metadata": {},
     "output_type": "execute_result"
    }
   ],
   "source": [
    "#Remove columns with only 1 value, as this data is irrelevant \n",
    "nonuniques = []\n",
    "for attr in shrooms:\n",
    "    if shrooms[attr].value_counts()[0] == shrooms[attr].count(): #If there are no unique values\n",
    "        nonuniques.append(attr)\n",
    "\n",
    "#Remove nonunique columns\n",
    "shrooms.drop(columns=nonuniques,inplace=True)\n",
    "\n",
    "shrooms.describe()"
   ]
  },
  {
   "cell_type": "code",
   "execution_count": 7,
   "metadata": {},
   "outputs": [
    {
     "data": {
      "text/plain": [
       "class                       0\n",
       "cap-shape                   0\n",
       "cap-surface                 0\n",
       "cap-color                   0\n",
       "bruises                     0\n",
       "odor                        0\n",
       "gill-attachment             0\n",
       "gill-spacing                0\n",
       "gill-size                   0\n",
       "gill-color                  0\n",
       "stalk-shape                 0\n",
       "stalk-root                  0\n",
       "stalk-surface-above-ring    0\n",
       "stalk-surface-below-ring    0\n",
       "stalk-color-above-ring      0\n",
       "stalk-color-below-ring      0\n",
       "veil-color                  0\n",
       "ring-number                 0\n",
       "ring-type                   0\n",
       "spore-print-color           0\n",
       "population                  0\n",
       "habitat                     0\n",
       "dtype: int64"
      ]
     },
     "execution_count": 7,
     "metadata": {},
     "output_type": "execute_result"
    }
   ],
   "source": [
    "#Check to see if there are any missing values\n",
    "shrooms.isnull().sum()"
   ]
  },
  {
   "cell_type": "code",
   "execution_count": 8,
   "metadata": {},
   "outputs": [],
   "source": [
    "#Encode values to numerical data\n",
    "from sklearn.preprocessing import LabelEncoder\n",
    "encoder = LabelEncoder()\n",
    "\n",
    "for attr in shrooms:\n",
    "    shrooms[attr] = encoder.fit_transform(shrooms[attr].astype('str'))\n"
   ]
  },
  {
   "cell_type": "code",
   "execution_count": 9,
   "metadata": {},
   "outputs": [
    {
     "name": "stderr",
     "output_type": "stream",
     "text": [
      "C:\\ProgramData\\Anaconda3\\lib\\site-packages\\sklearn\\preprocessing\\label.py:151: DeprecationWarning: The truth value of an empty array is ambiguous. Returning False, but in future this will result in an error. Use `array.size > 0` to check that an array is not empty.\n",
      "  if diff:\n"
     ]
    },
    {
     "data": {
      "text/plain": [
       "array(['g', 'd', 'd', ..., 'd', 'g', 'd'], dtype=object)"
      ]
     },
     "execution_count": 9,
     "metadata": {},
     "output_type": "execute_result"
    }
   ],
   "source": [
    "shrooms['class']\n",
    "encoder.inverse_transform(shrooms['class'])"
   ]
  },
  {
   "cell_type": "code",
   "execution_count": 10,
   "metadata": {},
   "outputs": [
    {
     "data": {
      "text/plain": [
       "0    3\n",
       "1    2\n",
       "2    2\n",
       "3    3\n",
       "4    0\n",
       "Name: population, dtype: int64"
      ]
     },
     "execution_count": 10,
     "metadata": {},
     "output_type": "execute_result"
    }
   ],
   "source": [
    "shrooms['population'].head()"
   ]
  },
  {
   "cell_type": "code",
   "execution_count": 11,
   "metadata": {},
   "outputs": [
    {
     "name": "stderr",
     "output_type": "stream",
     "text": [
      "C:\\ProgramData\\Anaconda3\\lib\\site-packages\\sklearn\\model_selection\\_split.py:2026: FutureWarning: From version 0.21, test_size will always complement train_size unless both are specified.\n",
      "  FutureWarning)\n"
     ]
    }
   ],
   "source": [
    "#Split the data into training and test data\n",
    "#y is our target class\n",
    "y = shrooms.iloc[:,0]\n",
    "#x is our attributes\n",
    "x = shrooms.iloc[:,1:]\n",
    "\n",
    "\n",
    "from sklearn.model_selection import train_test_split\n",
    "x_train, x_test, y_train, y_test = train_test_split(x,y,train_size = 0.1)"
   ]
  },
  {
   "cell_type": "markdown",
   "metadata": {},
   "source": [
    "## Test using a basic neural network ##"
   ]
  },
  {
   "cell_type": "code",
   "execution_count": 12,
   "metadata": {},
   "outputs": [],
   "source": [
    "from sklearn.neural_network import MLPClassifier\n",
    "mlpc = MLPClassifier()\n",
    "mlpc.fit(x_train,y_train)\n",
    "\n",
    "predictions = mlpc.predict(x_test)"
   ]
  },
  {
   "cell_type": "code",
   "execution_count": 13,
   "metadata": {},
   "outputs": [
    {
     "name": "stdout",
     "output_type": "stream",
     "text": [
      "Your model accuracy is: 0.9302516411378556\n"
     ]
    }
   ],
   "source": [
    "print (\"Your model accuracy is: \" + str(np.sum(predictions == y_test) / float(predictions.size)))\n"
   ]
  },
  {
   "cell_type": "markdown",
   "metadata": {},
   "source": [
    "Compared to In[13] of Assignment2_Final:\n",
    "\n",
    "|          | Exploration (NN) | Final (ID3) |\n",
    "|----------|------------------|-------------|\n",
    "| Accuracy | 93%              | 99.8%       |"
   ]
  },
  {
   "cell_type": "markdown",
   "metadata": {},
   "source": [
    "# ID3 Algorithm #"
   ]
  },
  {
   "cell_type": "markdown",
   "metadata": {},
   "source": [
    "# Training the Algorithm on the Mushroom Set #"
   ]
  },
  {
   "cell_type": "code",
   "execution_count": 14,
   "metadata": {},
   "outputs": [],
   "source": [
    "#TODO\n",
    "\n",
    "class DecisionTreeNode:\n",
    "    def __init__(self, parent):\n",
    "        self.parent=parent\n",
    "        self.children= dict()\n",
    "    \n",
    "    def add_child(self, child_key, child_value):\n",
    "        self.children[child_key] = child_value\n",
    "        \n",
    "    def get_children(self):\n",
    "        return self.children\n",
    "    \n",
    "    def get_parent(self):\n",
    "        return self.parent\n",
    "    \n",
    "    def get_attribute(self):\n",
    "        return self.attribute\n",
    "    \n",
    "    def set_attribute(self, attribute):\n",
    "        self.attribute = attribute\n",
    "        \n",
    "    def set_label(self, label):\n",
    "        self.label=label\n",
    "    \n",
    "    def get_label(self):\n",
    "        return self.label\n",
    "    \n",
    "    def __str__(self, level=1):\n",
    "        text=\"\"\n",
    "        if not hasattr(self, 'parent'):\n",
    "            text += \"root: \"\n",
    "        if hasattr(self, 'label'):\n",
    "            text += \"leaf: label = {}\".format(self.label)\n",
    "        else:\n",
    "            text += \"split on {}, descendants (\".format(self.attribute)\n",
    "            for value, child in self.children.items():\n",
    "                text += \"\\n\"+\"\\t\"*level+\"branch value = {}, child node: {}\".format(value, child.__str__(level+1))\n",
    "            \n",
    "            text += \")\"\n",
    "        return text\n",
    "            \n",
    "        "
   ]
  },
  {
   "cell_type": "code",
   "execution_count": 15,
   "metadata": {},
   "outputs": [],
   "source": [
    "def entropy(target_):\n",
    "    h = 0\n",
    "    for label_ in target_.unique():\n",
    "        h += -((target_[target_==label_].size / target_.size)* log(target_[target_==label_].size / target_.size, 2))\n",
    "    return h\n",
    "\n",
    "def determine_split_attribute(data_, target_, attributes_):\n",
    "    best_attribute_ = None\n",
    "    best_gain_ = 0\n",
    "    base_entropy_ = entropy(target_)\n",
    "    for attribute_ in attributes_:\n",
    "        x_select_ = data_.loc[:,attribute_]\n",
    "        information_gain_ = base_entropy_\n",
    "        for value_ in x_select_.unique():\n",
    "            split_ = pd.concat([x_select_[x_select_==value_], target_], axis=1, join='inner')\n",
    "            split_entropy_ = entropy(split_['class'])\n",
    "            information_gain_ -= split_entropy_ * (split_.size / data_.size)\n",
    "        \n",
    "        if information_gain_ >= best_gain_:\n",
    "            best_attribute_ = attribute_\n",
    "            \n",
    "    return best_attribute_"
   ]
  },
  {
   "cell_type": "code",
   "execution_count": 16,
   "metadata": {},
   "outputs": [],
   "source": [
    "#param attributes_ should be a set of attributes\n",
    "#param target_ should be a series (like y_train)\n",
    "#param data_ should be a dataframe (like x_train)\n",
    "def build_decision_tree(data_, target_, attributes_):\n",
    "    node_ = DecisionTreeNode(None)\n",
    "    if target_.unique().size==1:\n",
    "        node_.set_label(target_.iloc[0])\n",
    "        \n",
    "    if len(attributes_) == 0:\n",
    "        node_.set_label(target_.value_counts().head(1).last_valid_index())\n",
    "        \n",
    "    else:\n",
    "        split_attribute_ = determine_split_attribute(data_, target_, attributes_)\n",
    "        #print('split attribute: {}'.format(split_attribute_))\n",
    "        node_.set_attribute(split_attribute_)\n",
    "        split_select_ = data_.loc[:,split_attribute_]\n",
    "        for split_value_ in split_select_.unique():\n",
    "            child_data_ = data_[data_[split_attribute_] == split_value_]\n",
    "            child_target_ = pd.concat([child_data_, target_], axis=1, join='inner').loc[:,'class']\n",
    "            child_attributes_ = attributes_\n",
    "            child_attributes_.remove(split_attribute_)\n",
    "            #print('child_attributes: {}'.format(child_attributes_))\n",
    "            node_.add_child(split_value_, build_decision_tree(child_data_,child_target_,child_attributes_))\n",
    "            #print('currend subtree: {}'.format(node_))\n",
    "            child_attributes_.add(split_attribute_)\n",
    "            \n",
    "    return node_\n",
    "            "
   ]
  },
  {
   "cell_type": "code",
   "execution_count": 17,
   "metadata": {},
   "outputs": [],
   "source": [
    "#data should be a dataframe (like x_train)\n",
    "#root should be a a DecisionTreeNode (returned from build_decision_tree)\n",
    "def make_prediction(root, data):\n",
    "    predictions = dict()\n",
    "    for i, point in data.iterrows():\n",
    "        current_node_ = root\n",
    "        not_predicted = True\n",
    "        while not_predicted:\n",
    "            if(hasattr(current_node_, 'label')):\n",
    "                predictions[i]=current_node_.get_label()\n",
    "                not_predicted = False\n",
    "            else:\n",
    "                split_value = point[current_node_.get_attribute()]\n",
    "                #missing one edgecase: what if the split_value is not a branch in the decision tree?\n",
    "                current_node_ = current_node_.get_children()[split_value]\n",
    "    result = pd.Series(predictions)\n",
    "    return result\n",
    "        \n",
    "    "
   ]
  },
  {
   "cell_type": "code",
   "execution_count": 18,
   "metadata": {
    "scrolled": true
   },
   "outputs": [
    {
     "name": "stdout",
     "output_type": "stream",
     "text": [
      "0.99878651470097\n",
      "0.9986210111652296\n",
      "0.672294817075638\n",
      "0.8951127210954559\n",
      "0.0\n",
      "0.9877446975059743\n",
      "0.9867089261132442\n",
      "0.9059282160429992\n"
     ]
    },
    {
     "data": {
      "text/plain": [
       "'cap-surface'"
      ]
     },
     "execution_count": 18,
     "metadata": {},
     "output_type": "execute_result"
    }
   ],
   "source": [
    "attributes = {'cap-shape','cap-surface'}\n",
    "\n",
    "\n",
    "# testing some methods, can be removed\n",
    "for attribute_ in attributes:\n",
    "    x_select = x_train.loc[:,attribute_]\n",
    "    for value_ in x_select.unique():\n",
    "        split = pd.concat([x_select[x_select==value_], y_train], axis=1, join='inner')\n",
    "        ##split = pd.merge(left = x_select[x_select==value_], right=y_train, left_index=True, right_index=True)\n",
    "        split_entropy = entropy(split['class'])\n",
    "        print(split_entropy)\n",
    "        \n",
    "determine_split_attribute(x_train, y_train, attributes)"
   ]
  },
  {
   "cell_type": "code",
   "execution_count": 19,
   "metadata": {},
   "outputs": [
    {
     "name": "stdout",
     "output_type": "stream",
     "text": [
      "split on cap-surface, descendants (\n",
      "\tbranch value = 3, child node: split on cap-shape, descendants (\n",
      "\t\tbranch value = 2, child node: leaf: label = 0\n",
      "\t\tbranch value = 5, child node: leaf: label = 1\n",
      "\t\tbranch value = 3, child node: leaf: label = 1\n",
      "\t\tbranch value = 0, child node: leaf: label = 0)\n",
      "\tbranch value = 2, child node: split on cap-shape, descendants (\n",
      "\t\tbranch value = 5, child node: leaf: label = 1\n",
      "\t\tbranch value = 0, child node: leaf: label = 0\n",
      "\t\tbranch value = 2, child node: leaf: label = 1\n",
      "\t\tbranch value = 3, child node: leaf: label = 1)\n",
      "\tbranch value = 0, child node: split on cap-shape, descendants (\n",
      "\t\tbranch value = 2, child node: leaf: label = 0\n",
      "\t\tbranch value = 5, child node: leaf: label = 0\n",
      "\t\tbranch value = 3, child node: leaf: label = 0\n",
      "\t\tbranch value = 0, child node: leaf: label = 0\n",
      "\t\tbranch value = 4, child node: leaf: label = 0))\n"
     ]
    }
   ],
   "source": [
    "tree= build_decision_tree(x_train, y_train, attributes)\n",
    "print(tree)"
   ]
  },
  {
   "cell_type": "code",
   "execution_count": 42,
   "metadata": {},
   "outputs": [],
   "source": [
    "training_results = make_prediction(tree,x_train)"
   ]
  },
  {
   "cell_type": "markdown",
   "metadata": {},
   "source": []
  },
  {
   "cell_type": "markdown",
   "metadata": {},
   "source": [
    "# Testing with an interactive example #"
   ]
  },
  {
   "cell_type": "markdown",
   "metadata": {},
   "source": [
    "## Define a dictionary of dictionaries to map attribute descriptions ##"
   ]
  },
  {
   "cell_type": "code",
   "execution_count": 22,
   "metadata": {},
   "outputs": [
    {
     "name": "stdout",
     "output_type": "stream",
     "text": [
      "['AttributeInformation:', '0.class:edible=e,poisonous=p)', '1.cap-shape:bell=b,conical=c,convex=x,flat=f,', 'knobbed=k,sunken=s', '2.cap-surface:fibrous=f,grooves=g,scaly=y,smooth=s', '3.cap-color:brown=n,buff=b,cinnamon=c,gray=g,green=r,', 'pink=p,purple=u,red=e,white=w,yellow=y', '4.bruises?:bruises=t,no=f', '5.odor:almond=a,anise=l,creosote=c,fishy=y,foul=f,', 'musty=m,none=n,pungent=p,spicy=s', '6.gill-attachment:attached=a,descending=d,free=f,notched=n', '7.gill-spacing:close=c,crowded=w,distant=d', '8.gill-size:broad=b,narrow=n', '9.gill-color:black=k,brown=n,buff=b,chocolate=h,gray=g,', 'green=r,orange=o,pink=p,purple=u,red=e,', 'white=w,yellow=y', '10.stalk-shape:enlarging=e,tapering=t', '11.stalk-root:bulbous=b,club=c,cup=u,equal=e,', 'rhizomorphs=z,rooted=r,missing=?', '12.stalk-surface-above-ring:fibrous=f,scaly=y,silky=k,smooth=s', '13.stalk-surface-below-ring:fibrous=f,scaly=y,silky=k,smooth=s', '14.stalk-color-above-ring:brown=n,buff=b,cinnamon=c,gray=g,orange=o,', 'pink=p,red=e,white=w,yellow=y', '15.stalk-color-below-ring:brown=n,buff=b,cinnamon=c,gray=g,orange=o,', 'pink=p,red=e,white=w,yellow=y', '16.veil-type:partial=p,universal=u', '17.veil-color:brown=n,orange=o,white=w,yellow=y', '18.ring-number:none=n,one=o,two=t', '19.ring-type:cobwebby=c,evanescent=e,flaring=f,large=l,', 'none=n,pendant=p,sheathing=s,zone=z', '20.spore-print-color:black=k,brown=n,buff=b,chocolate=h,green=r,', 'orange=o,purple=u,white=w,yellow=y', '21.population:abundant=a,clustered=c,numerous=n,', 'scattered=s,several=v,solitary=y', '22.habitat:grasses=g,leaves=l,meadows=m,paths=p,', 'urban=u,waste=w,woods=d']\n"
     ]
    }
   ],
   "source": [
    "results = []\n",
    "with open('Data/Mushroom Attributes.txt') as input:\n",
    "    for line in input:\n",
    "        x = line.expandtabs()\n",
    "        x = x.replace(' ','')\n",
    "        x = x.replace('\\n','')\n",
    "        results.append(x)\n",
    "\n",
    "print(results)"
   ]
  },
  {
   "cell_type": "code",
   "execution_count": 23,
   "metadata": {},
   "outputs": [],
   "source": [
    "del results[0] #Remove 'Attribute Information' text from results"
   ]
  },
  {
   "cell_type": "code",
   "execution_count": 24,
   "metadata": {},
   "outputs": [],
   "source": [
    "def addDictionaryEntry(string, dictionary):\n",
    "    #Creates a key and value based on the letter and actual value\n",
    "    #E.G dictionary['cap-color']['brown'] = n\n",
    "    x = string.split('=')\n",
    "    dictionary[x[0]] = x[1]\n",
    "    return dictionary\n",
    "\n"
   ]
  },
  {
   "cell_type": "code",
   "execution_count": 25,
   "metadata": {},
   "outputs": [
    {
     "name": "stdout",
     "output_type": "stream",
     "text": [
      "n\n"
     ]
    }
   ],
   "source": [
    "#Turn raw data into a dictionary of dictionaries as the data structure.\n",
    "\n",
    "import re\n",
    "dictionaryformat = re.compile(r'\\d+.\\w+[-\\w]+:') #Split data by name formatting\n",
    "\n",
    "dictofdict = {}\n",
    "for attr in results:\n",
    "    searchObj = re.search(dictionaryformat,attr) #Search for attribute names\n",
    "    if searchObj: # If regex query returns anything\n",
    "        x = attr.split(':') #Split into attribute name and data\n",
    "        attrName = x[0]\n",
    "        entries = x[1]\n",
    "        currentDict = {}\n",
    "        dictofdict[attrName.split('.')[1]] = currentDict #Create entry for attribute name in master dictionary\n",
    "        for entry in entries.split(','):\n",
    "            if (entry != ''):\n",
    "                currentDict = addDictionaryEntry(entry,currentDict)\n",
    "    else: #Moments where formatting errors occur such as /n creating a new entry\n",
    "        for entry in attr.split(','):\n",
    "            if (entry != ''):\n",
    "                currentDict = addDictionaryEntry(entry,currentDict)\n",
    "                \n",
    "print(dictofdict['cap-color']['brown'])"
   ]
  },
  {
   "cell_type": "code",
   "execution_count": 28,
   "metadata": {},
   "outputs": [],
   "source": [
    "def predictionAsString(prediction):\n",
    "    if (str(prediction) == \"1\"):\n",
    "        print(\"This Mushroom is Poisonous! Don't eat it!\")\n",
    "    else:\n",
    "        print(\"This Mushroom is not Poisonous :)\")"
   ]
  },
  {
   "cell_type": "code",
   "execution_count": 1,
   "metadata": {},
   "outputs": [
    {
     "ename": "NameError",
     "evalue": "name 'training_results' is not defined",
     "output_type": "error",
     "traceback": [
      "\u001b[1;31m---------------------------------------------------------------------------\u001b[0m",
      "\u001b[1;31mNameError\u001b[0m                                 Traceback (most recent call last)",
      "\u001b[1;32m<ipython-input-1-dcc68053b9e4>\u001b[0m in \u001b[0;36m<module>\u001b[1;34m()\u001b[0m\n\u001b[1;32m----> 1\u001b[1;33m \u001b[0mx\u001b[0m \u001b[1;33m=\u001b[0m \u001b[0mtraining_results\u001b[0m\u001b[1;33m.\u001b[0m\u001b[0msample\u001b[0m\u001b[1;33m(\u001b[0m\u001b[1;33m)\u001b[0m\u001b[1;33m\u001b[0m\u001b[0m\n\u001b[0m\u001b[0;32m      2\u001b[0m \u001b[0mprint\u001b[0m\u001b[1;33m(\u001b[0m\u001b[0mdictofdict\u001b[0m\u001b[1;33m)\u001b[0m\u001b[1;33m\u001b[0m\u001b[0m\n",
      "\u001b[1;31mNameError\u001b[0m: name 'training_results' is not defined"
     ]
    }
   ],
   "source": [
    "x = training_results.sample()\n",
    "print(dictofdict)\n"
   ]
  },
  {
   "cell_type": "code",
   "execution_count": 57,
   "metadata": {},
   "outputs": [
    {
     "ename": "TypeError",
     "evalue": "'Series' object is not callable",
     "output_type": "error",
     "traceback": [
      "\u001b[1;31m---------------------------------------------------------------------------\u001b[0m",
      "\u001b[1;31mTypeError\u001b[0m                                 Traceback (most recent call last)",
      "\u001b[1;32m<ipython-input-57-a996c0f75954>\u001b[0m in \u001b[0;36m<module>\u001b[1;34m()\u001b[0m\n\u001b[1;32m----> 1\u001b[1;33m \u001b[0mprint\u001b[0m\u001b[1;33m(\u001b[0m\u001b[1;34m\"This mushroom is classifed as: {}\"\u001b[0m\u001b[1;33m,\u001b[0m\u001b[0mpredictionAsString\u001b[0m\u001b[1;33m(\u001b[0m\u001b[0my_test\u001b[0m\u001b[1;33m(\u001b[0m\u001b[0mx\u001b[0m\u001b[1;33m)\u001b[0m\u001b[1;33m)\u001b[0m\u001b[1;33m)\u001b[0m\u001b[1;33m\u001b[0m\u001b[0m\n\u001b[0m\u001b[0;32m      2\u001b[0m \u001b[1;31m#predictionAsString(prediction)\u001b[0m\u001b[1;33m\u001b[0m\u001b[1;33m\u001b[0m\u001b[0m\n",
      "\u001b[1;31mTypeError\u001b[0m: 'Series' object is not callable"
     ]
    }
   ],
   "source": [
    "print(\"This mushroom is classifed as: {}\",predictionAsString(y_test(x)))\n",
    "#predictionAsString(prediction)"
   ]
  },
  {
   "cell_type": "code",
   "execution_count": null,
   "metadata": {},
   "outputs": [],
   "source": []
  }
 ],
 "metadata": {
  "kernelspec": {
   "display_name": "Python 3",
   "language": "python",
   "name": "python3"
  },
  "language_info": {
   "codemirror_mode": {
    "name": "ipython",
    "version": 3
   },
   "file_extension": ".py",
   "mimetype": "text/x-python",
   "name": "python",
   "nbconvert_exporter": "python",
   "pygments_lexer": "ipython3",
   "version": "3.6.5"
  }
 },
 "nbformat": 4,
 "nbformat_minor": 2
}
